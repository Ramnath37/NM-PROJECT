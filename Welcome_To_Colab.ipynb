{
  "cells": [
    {
      "cell_type": "markdown",
      "metadata": {
        "id": "view-in-github",
        "colab_type": "text"
      },
      "source": [
        "<a href=\"https://colab.research.google.com/github/Ramnath37/NM-PROJECT/blob/main/Welcome_To_Colab.ipynb\" target=\"_parent\"><img src=\"https://colab.research.google.com/assets/colab-badge.svg\" alt=\"Open In Colab\"/></a>"
      ]
    },
    {
      "cell_type": "code",
      "execution_count": 2,
      "metadata": {
        "id": "zwFnJsE6vjf8",
        "outputId": "b250905b-3efd-4965-cf8e-005ffe434c02",
        "colab": {
          "base_uri": "https://localhost:8080/"
        }
      },
      "outputs": [
        {
          "output_type": "stream",
          "name": "stdout",
          "text": [
            "Requirement already satisfied: pycryptodome in /usr/local/lib/python3.10/dist-packages (3.21.0)\n",
            "Encrypted Data: 4XPqsicIWm9QPh4p5BbXQHkAjuvaUU954ZJfCIPnQTNHH168iYf6ZGg=\n",
            "Encrypted Symmetric Key: dE2o7e8LrLqyM/aUUVYBLx7F5CbKvtuexH4PTtYBdvttfUWJ84Kr0nGXTpJcnSFrtlM1mBr/mns90+EtLLKmP7ShBAPo6vWF61yYjhOUkhzTWVhAgjWZUMx64AtZMwuPIeIMh4P92pRW8Z3xwRCB+n96UXUqW8wRInOj/JFi+cW3WqBxYG7AApinONLJ4BBwxol19Bqou/IHG3Pi5fy32kdNDneJsPqTTvJe9q4AOF4QqLCyYhJJ4v0rxX1XdMyaw+U9EbiZ1bwIfPoErS+1+acVy04ynbePGUDGPiWN45JK7wqCMajzamvOHe98e4L3FrH2C6sbYY8ubmD2s70o/w==\n",
            "Tag: pn8vy+QCG89ZRtzwdYYe8Q==\n",
            "Nonce: BB/YVJP9Oo0DDJJ5l8IO4Q==\n",
            "Decrypted Data: Confidential data for group members only.\n"
          ]
        }
      ],
      "source": [
        "import pandas as pd\n",
        "\n",
        "import numpy as np\n",
        "\n",
        "!pip install pycryptodome\n",
        "\n",
        "from Crypto.PublicKey import RSA\n",
        "\n",
        "from Crypto.Cipher import AES, PKCS1_OAEP\n",
        "\n",
        "from Crypto.Random import get_random_bytes\n",
        "\n",
        "from base64 import b64encode, b64decode\n",
        "\n",
        "def setup_group():\n",
        "\n",
        "    key = RSA.generate(2048)  # Generate a 2048-bit RSA key pair\n",
        "\n",
        "    private_key = key.export_key()\n",
        "\n",
        "    public_key = key.publickey().export_key()\n",
        "\n",
        "    return public_key, private_key\n",
        "\n",
        "def encrypt_data(data, public_key):\n",
        "\n",
        "    # Generate a random symmetric key (AES-256) for data encryption\n",
        "\n",
        "    symmetric_key = get_random_bytes(32)\n",
        "\n",
        "    # Encrypt data using AES\n",
        "\n",
        "    cipher_aes = AES.new(symmetric_key, AES.MODE_GCM)\n",
        "\n",
        "    ciphertext, tag = cipher_aes.encrypt_and_digest(data.encode())\n",
        "\n",
        "    # Encrypt the symmetric key with RSA public key\n",
        "\n",
        "    rsa_key = RSA.import_key(public_key)\n",
        "\n",
        "    cipher_rsa = PKCS1_OAEP.new(rsa_key)\n",
        "\n",
        "    encrypted_symmetric_key = cipher_rsa.encrypt(symmetric_key)\n",
        "\n",
        "    # Return ciphertext, RSA-encrypted AES key, tag, and nonce\n",
        "\n",
        "    return b64encode(ciphertext).decode(), b64encode(encrypted_symmetric_key).decode(), b64encode(tag).decode(), b64encode(cipher_aes.nonce).decode()\n",
        "\n",
        "def decrypt_data(ciphertext, encrypted_symmetric_key, tag, nonce, private_key):\n",
        "\n",
        "    # Import the private RSA key\n",
        "\n",
        "    rsa_key = RSA.import_key(private_key)\n",
        "\n",
        "    cipher_rsa = PKCS1_OAEP.new(rsa_key)\n",
        "\n",
        "    # Decrypt the symmetric key with RSA private key\n",
        "\n",
        "    symmetric_key = cipher_rsa.decrypt(b64decode(encrypted_symmetric_key))\n",
        "\n",
        "    # Decrypt the data using AES\n",
        "\n",
        "    cipher_aes = AES.new(symmetric_key, AES.MODE_GCM, nonce=b64decode(nonce))\n",
        "\n",
        "    decrypted_data = cipher_aes.decrypt_and_verify(b64decode(ciphertext), b64decode(tag))\n",
        "\n",
        "    return decrypted_data.decode()\n",
        "\n",
        "if __name__ == \"__main__\":\n",
        "\n",
        "    # Step 1: Setup group keys\n",
        "\n",
        "    public_key, private_key = setup_group()\n",
        "\n",
        "    # Data to be shared\n",
        "\n",
        "    data = \"Confidential data for group members only.\"\n",
        "\n",
        "    # Encrypt data for the group\n",
        "\n",
        "    ciphertext, encrypted_symmetric_key, tag, nonce = encrypt_data(data, public_key)\n",
        "\n",
        "    print(\"Encrypted Data:\", ciphertext)\n",
        "\n",
        "    print(\"Encrypted Symmetric Key:\", encrypted_symmetric_key)\n",
        "\n",
        "    print(\"Tag:\", tag)\n",
        "\n",
        "    print(\"Nonce:\", nonce)\n",
        "\n",
        "    # Decrypt data as a group member with access to the private key\n",
        "\n",
        "    decrypted_data = decrypt_data(ciphertext, encrypted_symmetric_key, tag, nonce, private_key)\n",
        "\n",
        "    print(\"Decrypted Data:\", decrypted_data)"
      ]
    }
  ],
  "metadata": {
    "colab": {
      "name": "Welcome To Colab",
      "toc_visible": true,
      "provenance": [],
      "include_colab_link": true
    },
    "kernelspec": {
      "display_name": "Python 3",
      "name": "python3"
    }
  },
  "nbformat": 4,
  "nbformat_minor": 0
}